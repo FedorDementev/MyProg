{
 "cells": [
  {
   "cell_type": "markdown",
   "metadata": {},
   "source": [
    "Задача_1 (28)  "
   ]
  },
  {
   "cell_type": "code",
   "execution_count": null,
   "metadata": {},
   "outputs": [],
   "source": [
    "def Maxxx (a, b, c):\n",
    "    Maxxx = 0\n",
    "    if a - b > 0:\n",
    "        if a - c > 0:\n",
    "            Maxxx = a \n",
    "        if c - a > 0:\n",
    "            Maxxx = c\n",
    "        if c == a: \n",
    "            Maxxx = a\n",
    "    if b - a > 0:\n",
    "        if b - c > 0:\n",
    "            Maxxx = b\n",
    "        if c - b > 0:\n",
    "            Maxxx = c\n",
    "        if c == b:\n",
    "            Maxxx = c\n",
    "    if b == c:\n",
    "        if a - b > 0:\n",
    "            Maxxx = a\n",
    "        if b - a > 0:\n",
    "            Maxxx = b\n",
    "        if b == a:\n",
    "            Maxxx = b\n",
    "    if a == b:\n",
    "        if c - b > 0:\n",
    "            Maxxx = c\n",
    "        if b - c > 0:\n",
    "            Maxxx = b\n",
    "    return Maxxx\n",
    "\n",
    "Maxxx(17, 2, 2)"
   ]
  },
  {
   "cell_type": "markdown",
   "metadata": {},
   "source": [
    "Задача_2  (7)"
   ]
  },
  {
   "cell_type": "code",
   "execution_count": null,
   "metadata": {},
   "outputs": [],
   "source": [
    "def Delit(num):\n",
    "    T = range(1, num+1)\n",
    "    delit = []\n",
    "    i = 0\n",
    "    for elem in T:\n",
    "        if num % elem == 0:\n",
    "            delit.append(elem)\n",
    "            i = i + 1\n",
    "    print(delit)\n",
    "    return(i)\n",
    "\n",
    "Delit(10)"
   ]
  },
  {
   "cell_type": "markdown",
   "metadata": {},
   "source": [
    "Задача_3  (9)"
   ]
  },
  {
   "cell_type": "code",
   "execution_count": null,
   "metadata": {},
   "outputs": [],
   "source": [
    "import random\n",
    "a = random.randint(1, 9)\n",
    "while 1:\n",
    "    b = int(input(\"Give you number: \"))\n",
    "    if b == a:\n",
    "        print(\"You Win\")\n",
    "        break\n",
    "    elif b > a:\n",
    "        print(\"Ваше число больше требуемого, введите число меньше\")\n",
    "        continue\n",
    "    else :\n",
    "        print(\"Ваше число меньше требуемого, введите число больше\")\n",
    "        continue\n"
   ]
  },
  {
   "cell_type": "markdown",
   "metadata": {},
   "source": [
    "Задача_4  (16)"
   ]
  },
  {
   "cell_type": "code",
   "execution_count": null,
   "metadata": {},
   "outputs": [],
   "source": [
    "import random\n",
    "len = int(input(\"Give len password:  \"))\n",
    "print(\"repeat characters..simple password - priss 1\")\n",
    "print(\"no repeat..hard password - press 2\")\n",
    "k = int(input())\n",
    "s = \"qwertyuiopasdfghjklzxcvbnmQAZWSXEDCRFVTGBYHNUJMIKOLP1234567890\"\n",
    "a = \"aAbB123\"\n",
    "if k == 1:\n",
    "    p =  \"\" .join (random.sample (a, len))\n",
    "    print (p)\n",
    "elif k == 2:\n",
    "    p =  \"\" .join (random.sample (s, len))\n",
    "    print (p)\n",
    "else:\n",
    "    print(\"неверный параметр\")\n"
   ]
  }
 ],
 "metadata": {
  "kernelspec": {
   "display_name": "Python 3",
   "language": "python",
   "name": "python3"
  },
  "language_info": {
   "codemirror_mode": {
    "name": "ipython",
    "version": 3
   },
   "file_extension": ".py",
   "mimetype": "text/x-python",
   "name": "python",
   "nbconvert_exporter": "python",
   "pygments_lexer": "ipython3",
   "version": "3.6.5"
  }
 },
 "nbformat": 4,
 "nbformat_minor": 2
}
